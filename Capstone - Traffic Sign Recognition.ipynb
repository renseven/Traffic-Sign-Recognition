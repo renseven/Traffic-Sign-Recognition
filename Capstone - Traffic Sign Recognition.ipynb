{
 "cells": [
  {
   "cell_type": "code",
   "execution_count": 1,
   "metadata": {
    "execution": {
     "iopub.execute_input": "2022-08-30T14:34:44.646421Z",
     "iopub.status.busy": "2022-08-30T14:34:44.646034Z",
     "iopub.status.idle": "2022-08-30T14:34:50.498774Z",
     "shell.execute_reply": "2022-08-30T14:34:50.497761Z",
     "shell.execute_reply.started": "2022-08-30T14:34:44.646337Z"
    }
   },
   "outputs": [],
   "source": [
    "import pandas as pd\n",
    "import numpy as np\n",
    "import tensorflow as tf\n",
    "from tensorflow.keras import layers,models\n",
    "from sklearn.metrics import confusion_matrix, classification_report\n",
    "import matplotlib.pyplot as plt\n",
    "import seaborn as sns\n",
    "import cv2"
   ]
  },
  {
   "cell_type": "code",
   "execution_count": 2,
   "metadata": {
    "execution": {
     "iopub.execute_input": "2022-08-30T14:34:50.500514Z",
     "iopub.status.busy": "2022-08-30T14:34:50.500195Z",
     "iopub.status.idle": "2022-08-30T14:34:50.534995Z",
     "shell.execute_reply": "2022-08-30T14:34:50.534258Z",
     "shell.execute_reply.started": "2022-08-30T14:34:50.500480Z"
    }
   },
   "outputs": [],
   "source": [
    "test=pd.read_csv('../input/gtsrb-german-traffic-sign/Test.csv')"
   ]
  },
  {
   "cell_type": "code",
   "execution_count": 3,
   "metadata": {
    "execution": {
     "iopub.execute_input": "2022-08-30T14:34:50.538142Z",
     "iopub.status.busy": "2022-08-30T14:34:50.537865Z",
     "iopub.status.idle": "2022-08-30T14:34:50.598425Z",
     "shell.execute_reply": "2022-08-30T14:34:50.597600Z",
     "shell.execute_reply.started": "2022-08-30T14:34:50.538115Z"
    }
   },
   "outputs": [],
   "source": [
    "train=pd.read_csv('../input/gtsrb-german-traffic-sign/Train.csv')"
   ]
  },
  {
   "cell_type": "code",
   "execution_count": 4,
   "metadata": {
    "execution": {
     "iopub.execute_input": "2022-08-30T14:34:50.600303Z",
     "iopub.status.busy": "2022-08-30T14:34:50.599961Z",
     "iopub.status.idle": "2022-08-30T14:34:50.653744Z",
     "shell.execute_reply": "2022-08-30T14:34:50.652912Z",
     "shell.execute_reply.started": "2022-08-30T14:34:50.600269Z"
    }
   },
   "outputs": [],
   "source": [
    "train.describe()"
   ]
  },
  {
   "cell_type": "code",
   "execution_count": 5,
   "metadata": {
    "execution": {
     "iopub.execute_input": "2022-08-30T14:34:50.655377Z",
     "iopub.status.busy": "2022-08-30T14:34:50.655034Z",
     "iopub.status.idle": "2022-08-30T14:37:38.893057Z",
     "shell.execute_reply": "2022-08-30T14:37:38.892099Z",
     "shell.execute_reply.started": "2022-08-30T14:34:50.655347Z"
    }
   },
   "outputs": [],
   "source": [
    "X_train=[]\n",
    "for i in range(len(train)):\n",
    "    image = tf.keras.preprocessing.image.load_img('../input/gtsrb-german-traffic-sign/'+str(train['Path'][i]),grayscale=False, color_mode='rgb', target_size=(25,25),\n",
    "    interpolation='nearest')\n",
    "    input_arr = tf.keras.preprocessing.image.img_to_array(image)\n",
    "    input_arr = np.array([input_arr])\n",
    "    X_train.append(input_arr)"
   ]
  },
  {
   "cell_type": "code",
   "execution_count": 6,
   "metadata": {
    "execution": {
     "iopub.execute_input": "2022-08-30T14:37:38.896696Z",
     "iopub.status.busy": "2022-08-30T14:37:38.896425Z",
     "iopub.status.idle": "2022-08-30T14:37:39.028475Z",
     "shell.execute_reply": "2022-08-30T14:37:39.027635Z",
     "shell.execute_reply.started": "2022-08-30T14:37:38.896669Z"
    }
   },
   "outputs": [],
   "source": [
    "X_train=np.array(X_train)"
   ]
  },
  {
   "cell_type": "code",
   "execution_count": 7,
   "metadata": {
    "execution": {
     "iopub.execute_input": "2022-08-30T14:37:39.030159Z",
     "iopub.status.busy": "2022-08-30T14:37:39.029823Z",
     "iopub.status.idle": "2022-08-30T14:37:39.036494Z",
     "shell.execute_reply": "2022-08-30T14:37:39.035586Z",
     "shell.execute_reply.started": "2022-08-30T14:37:39.030125Z"
    }
   },
   "outputs": [],
   "source": [
    "X_train.shape"
   ]
  },
  {
   "cell_type": "code",
   "execution_count": 8,
   "metadata": {
    "execution": {
     "iopub.execute_input": "2022-08-30T14:37:39.039159Z",
     "iopub.status.busy": "2022-08-30T14:37:39.038806Z",
     "iopub.status.idle": "2022-08-30T14:37:39.046203Z",
     "shell.execute_reply": "2022-08-30T14:37:39.045440Z",
     "shell.execute_reply.started": "2022-08-30T14:37:39.039118Z"
    }
   },
   "outputs": [],
   "source": [
    "X_train=X_train.reshape((39209,25, 25, 3))"
   ]
  },
  {
   "cell_type": "code",
   "execution_count": 9,
   "metadata": {
    "execution": {
     "iopub.execute_input": "2022-08-30T14:37:39.048044Z",
     "iopub.status.busy": "2022-08-30T14:37:39.047652Z",
     "iopub.status.idle": "2022-08-30T14:37:39.056973Z",
     "shell.execute_reply": "2022-08-30T14:37:39.055912Z",
     "shell.execute_reply.started": "2022-08-30T14:37:39.047998Z"
    }
   },
   "outputs": [],
   "source": [
    "Y_train=train['ClassId']"
   ]
  },
  {
   "cell_type": "code",
   "execution_count": 10,
   "metadata": {
    "execution": {
     "iopub.execute_input": "2022-08-30T14:37:39.058599Z",
     "iopub.status.busy": "2022-08-30T14:37:39.058191Z",
     "iopub.status.idle": "2022-08-30T14:37:41.324502Z",
     "shell.execute_reply": "2022-08-30T14:37:41.323647Z",
     "shell.execute_reply.started": "2022-08-30T14:37:39.058566Z"
    }
   },
   "outputs": [],
   "source": [
    "data_augmentation=models.Sequential([\n",
    "    layers.experimental.preprocessing.RandomContrast(0.85,input_shape=(25,25,3)),\n",
    "    layers.experimental.preprocessing.RandomZoom(0.2)\n",
    "])"
   ]
  },
  {
   "cell_type": "code",
   "execution_count": 11,
   "metadata": {
    "execution": {
     "iopub.execute_input": "2022-08-30T14:37:41.325996Z",
     "iopub.status.busy": "2022-08-30T14:37:41.325667Z",
     "iopub.status.idle": "2022-08-30T14:37:41.459426Z",
     "shell.execute_reply": "2022-08-30T14:37:41.458655Z",
     "shell.execute_reply.started": "2022-08-30T14:37:41.325962Z"
    }
   },
   "outputs": [],
   "source": [
    "model = models.Sequential([\n",
    "                      data_augmentation,\n",
    "                      layers.Conv2D(filters=16,kernel_size=(3,3),activation='relu'),\n",
    "                      layers.MaxPooling2D((2,2)),\n",
    "                       layers.Conv2D(filters=32,kernel_size=(3,3),activation='relu'),\n",
    "                       layers.MaxPooling2D((2,2)),\n",
    "                        layers.Conv2D(filters=64,kernel_size=(3,3),activation='relu'),\n",
    "                        layers.MaxPooling2D((2,2)),\n",
    "                       layers.Flatten(),\n",
    "                      layers.Dense(256,activation='relu'),\n",
    "                      layers.Dense(128,activation='relu'),\n",
    "                      layers.Dense(64,activation='softmax')])\n"
   ]
  },
  {
   "cell_type": "code",
   "execution_count": 12,
   "metadata": {
    "execution": {
     "iopub.execute_input": "2022-08-30T14:37:41.460915Z",
     "iopub.status.busy": "2022-08-30T14:37:41.460605Z",
     "iopub.status.idle": "2022-08-30T14:37:41.471694Z",
     "shell.execute_reply": "2022-08-30T14:37:41.467790Z",
     "shell.execute_reply.started": "2022-08-30T14:37:41.460882Z"
    }
   },
   "outputs": [],
   "source": [
    "model.summary()"
   ]
  },
  {
   "cell_type": "code",
   "execution_count": 13,
   "metadata": {
    "execution": {
     "iopub.execute_input": "2022-08-30T14:37:41.474983Z",
     "iopub.status.busy": "2022-08-30T14:37:41.474680Z",
     "iopub.status.idle": "2022-08-30T14:39:22.486360Z",
     "shell.execute_reply": "2022-08-30T14:39:22.485386Z",
     "shell.execute_reply.started": "2022-08-30T14:37:41.474956Z"
    }
   },
   "outputs": [],
   "source": [
    "model.compile(optimizer='adam',loss=tf.keras.losses.SparseCategoricalCrossentropy(from_logits=True),metrics=['accuracy'])\n",
    "history = model.fit(X_train,Y_train,epochs=20)"
   ]
  },
  {
   "cell_type": "code",
   "execution_count": 14,
   "metadata": {
    "execution": {
     "iopub.execute_input": "2022-08-30T14:39:22.489305Z",
     "iopub.status.busy": "2022-08-30T14:39:22.488934Z",
     "iopub.status.idle": "2022-08-30T14:40:09.239600Z",
     "shell.execute_reply": "2022-08-30T14:40:09.238551Z",
     "shell.execute_reply.started": "2022-08-30T14:39:22.489259Z"
    }
   },
   "outputs": [],
   "source": [
    "X_test=[]\n",
    "for i in range(len(test)):\n",
    "    image = tf.keras.preprocessing.image.load_img('../input/gtsrb-german-traffic-sign/'+str(test['Path'][i]),grayscale=False, color_mode='rgb', target_size=(25,25),\n",
    "    interpolation='nearest')\n",
    "    input_arr = tf.keras.preprocessing.image.img_to_array(image)\n",
    "    input_arr = np.array([input_arr])\n",
    "    X_test.append(input_arr)"
   ]
  },
  {
   "cell_type": "code",
   "execution_count": 16,
   "metadata": {
    "execution": {
     "iopub.execute_input": "2022-08-30T14:40:09.250200Z",
     "iopub.status.busy": "2022-08-30T14:40:09.249542Z",
     "iopub.status.idle": "2022-08-30T14:40:09.293734Z",
     "shell.execute_reply": "2022-08-30T14:40:09.292849Z",
     "shell.execute_reply.started": "2022-08-30T14:40:09.250141Z"
    }
   },
   "outputs": [],
   "source": [
    "X_test=np.array(X_test)"
   ]
  },
  {
   "cell_type": "code",
   "execution_count": 17,
   "metadata": {
    "execution": {
     "iopub.execute_input": "2022-08-30T14:40:09.296456Z",
     "iopub.status.busy": "2022-08-30T14:40:09.295834Z",
     "iopub.status.idle": "2022-08-30T14:40:09.303205Z",
     "shell.execute_reply": "2022-08-30T14:40:09.302239Z",
     "shell.execute_reply.started": "2022-08-30T14:40:09.296417Z"
    }
   },
   "outputs": [],
   "source": [
    "X_test.shape"
   ]
  },
  {
   "cell_type": "code",
   "execution_count": 18,
   "metadata": {
    "execution": {
     "iopub.execute_input": "2022-08-30T14:40:09.305043Z",
     "iopub.status.busy": "2022-08-30T14:40:09.304620Z",
     "iopub.status.idle": "2022-08-30T14:40:09.312329Z",
     "shell.execute_reply": "2022-08-30T14:40:09.311480Z",
     "shell.execute_reply.started": "2022-08-30T14:40:09.304993Z"
    }
   },
   "outputs": [],
   "source": [
    "X_test=X_test.reshape(12630,25,25,3)"
   ]
  },
  {
   "cell_type": "code",
   "execution_count": 21,
   "metadata": {
    "execution": {
     "iopub.execute_input": "2022-08-30T14:40:26.366593Z",
     "iopub.status.busy": "2022-08-30T14:40:26.366261Z",
     "iopub.status.idle": "2022-08-30T14:40:26.372240Z",
     "shell.execute_reply": "2022-08-30T14:40:26.371106Z",
     "shell.execute_reply.started": "2022-08-30T14:40:26.366562Z"
    }
   },
   "outputs": [],
   "source": [
    "Y_test=test.ClassId"
   ]
  },
  {
   "cell_type": "code",
   "execution_count": 22,
   "metadata": {
    "execution": {
     "iopub.execute_input": "2022-08-30T14:40:27.437896Z",
     "iopub.status.busy": "2022-08-30T14:40:27.437158Z",
     "iopub.status.idle": "2022-08-30T14:40:28.532717Z",
     "shell.execute_reply": "2022-08-30T14:40:28.531888Z",
     "shell.execute_reply.started": "2022-08-30T14:40:27.437859Z"
    }
   },
   "outputs": [],
   "source": [
    "model.evaluate(X_test,Y_test)"
   ]
  },
  {
   "cell_type": "code",
   "execution_count": 23,
   "metadata": {
    "execution": {
     "iopub.execute_input": "2022-08-30T14:40:28.534544Z",
     "iopub.status.busy": "2022-08-30T14:40:28.534212Z",
     "iopub.status.idle": "2022-08-30T14:40:29.186143Z",
     "shell.execute_reply": "2022-08-30T14:40:29.185265Z",
     "shell.execute_reply.started": "2022-08-30T14:40:28.534508Z"
    }
   },
   "outputs": [],
   "source": [
    "prediction = model.predict(X_test)"
   ]
  },
  {
   "cell_type": "code",
   "execution_count": 24,
   "metadata": {
    "execution": {
     "iopub.execute_input": "2022-08-30T14:40:29.188261Z",
     "iopub.status.busy": "2022-08-30T14:40:29.187912Z",
     "iopub.status.idle": "2022-08-30T14:40:29.345732Z",
     "shell.execute_reply": "2022-08-30T14:40:29.344926Z",
     "shell.execute_reply.started": "2022-08-30T14:40:29.188226Z"
    }
   },
   "outputs": [],
   "source": [
    "plt.plot(history.history['accuracy'])\n",
    "plt.title('model accuracy')\n",
    "plt.ylabel('accuracy')\n",
    "plt.xlabel('epoch')\n",
    "plt.show()"
   ]
  },
  {
   "cell_type": "code",
   "execution_count": 25,
   "metadata": {
    "execution": {
     "iopub.execute_input": "2022-08-30T14:40:29.347596Z",
     "iopub.status.busy": "2022-08-30T14:40:29.347185Z",
     "iopub.status.idle": "2022-08-30T14:40:29.484930Z",
     "shell.execute_reply": "2022-08-30T14:40:29.484129Z",
     "shell.execute_reply.started": "2022-08-30T14:40:29.347561Z"
    }
   },
   "outputs": [],
   "source": [
    "plt.plot(history.history['loss'])\n",
    "plt.title('model loss')\n",
    "plt.ylabel('loss')\n",
    "plt.xlabel('epoch')\n",
    "plt.show()"
   ]
  },
  {
   "cell_type": "code",
   "execution_count": 26,
   "metadata": {
    "execution": {
     "iopub.execute_input": "2022-08-30T14:40:29.486748Z",
     "iopub.status.busy": "2022-08-30T14:40:29.486432Z",
     "iopub.status.idle": "2022-08-30T14:40:29.580493Z",
     "shell.execute_reply": "2022-08-30T14:40:29.579724Z",
     "shell.execute_reply.started": "2022-08-30T14:40:29.486714Z"
    }
   },
   "outputs": [],
   "source": [
    "prediction_classes=[np.argmax(element) for element in prediction]\n",
    "print(\"Classfication report\\n\",classification_report(Y_test,prediction_classes))"
   ]
  },
  {
   "cell_type": "code",
   "execution_count": 28,
   "metadata": {
    "execution": {
     "iopub.execute_input": "2022-08-30T14:40:30.696064Z",
     "iopub.status.busy": "2022-08-30T14:40:30.695290Z",
     "iopub.status.idle": "2022-08-30T14:40:30.701784Z",
     "shell.execute_reply": "2022-08-30T14:40:30.700968Z",
     "shell.execute_reply.started": "2022-08-30T14:40:30.696021Z"
    }
   },
   "outputs": [],
   "source": [
    "def prediction(img):\n",
    "    img=np.array(img)\n",
    "    img=cv2.resize(img,(25,25))\n",
    "    img=np.array(img).reshape(-1,25,25,3)\n",
    "    return np.argmax(model.predict(img))"
   ]
  },
  {
   "cell_type": "code",
   "execution_count": 41,
   "metadata": {
    "execution": {
     "iopub.execute_input": "2022-08-30T14:43:17.317440Z",
     "iopub.status.busy": "2022-08-30T14:43:17.317029Z",
     "iopub.status.idle": "2022-08-30T14:43:17.335943Z",
     "shell.execute_reply": "2022-08-30T14:43:17.334896Z",
     "shell.execute_reply.started": "2022-08-30T14:43:17.317387Z"
    }
   },
   "outputs": [],
   "source": [
    "img=cv2.imread('../input/gtsrb-german-traffic-sign/Meta/7.png')"
   ]
  },
  {
   "cell_type": "code",
   "execution_count": 42,
   "metadata": {
    "execution": {
     "iopub.execute_input": "2022-08-30T14:43:17.901662Z",
     "iopub.status.busy": "2022-08-30T14:43:17.901338Z",
     "iopub.status.idle": "2022-08-30T14:43:17.945678Z",
     "shell.execute_reply": "2022-08-30T14:43:17.944886Z",
     "shell.execute_reply.started": "2022-08-30T14:43:17.901631Z"
    }
   },
   "outputs": [],
   "source": [
    "prediction(img)"
   ]
  },
  {
   "cell_type": "markdown",
   "metadata": {},
   "source": []
  }
 ],
 "metadata": {
  "kernelspec": {
   "display_name": "Python 3 (ipykernel)",
   "language": "python",
   "name": "python3"
  },
  "language_info": {
   "codemirror_mode": {
    "name": "ipython",
    "version": 3
   },
   "file_extension": ".py",
   "mimetype": "text/x-python",
   "name": "python",
   "nbconvert_exporter": "python",
   "pygments_lexer": "ipython3",
   "version": "3.9.12"
  }
 },
 "nbformat": 4,
 "nbformat_minor": 4
}
